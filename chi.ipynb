{
 "cells": [
  {
   "cell_type": "code",
   "execution_count": 2,
   "id": "59ddcce4-b2cd-4c5b-8469-29d1f2afdacb",
   "metadata": {},
   "outputs": [
    {
     "name": "stdout",
     "output_type": "stream",
     "text": [
      "Contingency Table:\n",
      "        Satisfaction  Smart Thermostat  Smart Light  Total\n",
      "0    Very Satisfied                50           70    120\n",
      "1         Satisfied                80          100    180\n",
      "2           Neutral                60           90    150\n",
      "3       Unsatisfied                30           50     80\n",
      "4  Very Unsatisfied                20           50     70\n",
      "5             Total               240          360    600\n"
     ]
    }
   ],
   "source": [
    "import pandas as pd\n",
    "import numpy as np\n",
    "from scipy.stats import chi2_contingency, chi2\n",
    "\n",
    "# Create the contingency table\n",
    "data = {\n",
    "    'Satisfaction': ['Very Satisfied', 'Satisfied', 'Neutral', 'Unsatisfied', 'Very Unsatisfied'],\n",
    "    'Smart Thermostat': [50, 80, 60, 30, 20],\n",
    "    'Smart Light': [70, 100, 90, 50, 50],\n",
    "    'Total': [120, 180, 150, 80, 70]\n",
    "}\n",
    "\n",
    "# Create the DataFrame\n",
    "df = pd.DataFrame(data)\n",
    "\n",
    "# Add totals for each column\n",
    "df_total = pd.DataFrame({\n",
    "    'Satisfaction': ['Total'],\n",
    "    'Smart Thermostat': [df['Smart Thermostat'].sum()],\n",
    "    'Smart Light': [df['Smart Light'].sum()],\n",
    "    'Total': [df['Total'].sum()]\n",
    "})\n",
    "\n",
    "# Concatenate total row to the original DataFrame\n",
    "df = pd.concat([df, df_total], ignore_index=True)\n",
    "print(\"Contingency Table:\\n\", df)\n"
   ]
  },
  {
   "cell_type": "code",
   "execution_count": 3,
   "id": "c9bcd681-0f48-4271-abf7-55c3d646a94b",
   "metadata": {},
   "outputs": [
    {
     "name": "stdout",
     "output_type": "stream",
     "text": [
      "\n",
      "Chi-Square Statistic: 5.638227513227513\n",
      "p-value: 0.22784371130697179\n",
      "Degrees of Freedom: 4\n",
      "Expected Frequencies:\n",
      " [[ 48.  72.]\n",
      " [ 72. 108.]\n",
      " [ 60.  90.]\n",
      " [ 32.  48.]\n",
      " [ 28.  42.]]\n"
     ]
    }
   ],
   "source": [
    "# Define the contingency table without the 'Total' column and last row\n",
    "contingency_table = df.iloc[:5, 1:3].values\n",
    "\n",
    "# Perform the Chi-Square test\n",
    "chi2_stat, p_value, dof, expected = chi2_contingency(contingency_table)\n",
    "\n",
    "# Display results\n",
    "print(\"\\nChi-Square Statistic:\", chi2_stat)\n",
    "print(\"p-value:\", p_value)\n",
    "print(\"Degrees of Freedom:\", dof)\n",
    "print(\"Expected Frequencies:\\n\", expected)\n"
   ]
  },
  {
   "cell_type": "code",
   "execution_count": null,
   "id": "2ccd551b-8086-41e0-8498-dd89acf160b3",
   "metadata": {},
   "outputs": [],
   "source": [
    "# Significance level\n",
    "alpha = 0.05\n",
    "\n",
    "# Calculate the critical value for Chi-Square with given degrees of freedom\n",
    "critical_value = chi2.ppf(1 - alpha, dof)\n",
    "\n",
    "print(\"\\nCritical Value:\", critical_value)\n"
   ]
  }
 ],
 "metadata": {
  "kernelspec": {
   "display_name": "Python 3 (ipykernel)",
   "language": "python",
   "name": "python3"
  },
  "language_info": {
   "codemirror_mode": {
    "name": "ipython",
    "version": 3
   },
   "file_extension": ".py",
   "mimetype": "text/x-python",
   "name": "python",
   "nbconvert_exporter": "python",
   "pygments_lexer": "ipython3",
   "version": "3.12.4"
  }
 },
 "nbformat": 4,
 "nbformat_minor": 5
}

{
  "nbformat": 4,
  "nbformat_minor": 0,
  "metadata": {
    "colab": {
      "provenance": []
    },
    "kernelspec": {
      "name": "python3",
      "display_name": "Python 3"
    },
    "language_info": {
      "name": "python"
    }
  },
  "cells": [
    {
      "cell_type": "markdown",
      "source": [
        "# Background:\n",
        "Bombay hospitality Ltd. operates a franchise model for producing exotic Norwegian dinners throughout New England. The operating cost for a franchise in a week (W) is given by the equation W = $1,000 + $5X, where X represents the number of units produced in a week. Recent feedback from restaurant owners suggests that this cost model may no longer be accurate, as their observed weekly operating costs are higher.\n",
        "\n",
        "# Objective:\n",
        "To investigate the restaurant owners' claim about the increase in weekly operating costs using hypothesis testing.\n",
        "\n",
        "# Data Provided:\n",
        "1.   The theoretical weekly operating cost model: W = $1,000 + $5X\n",
        "2.   Sample of 25 restaurants with a mean weekly cost of Rs. 3,050\n",
        "3.   Number of units produced in a week (X) follows a normal distribution with a mean (μ) of 600 units and a standard deviation (σ) of 25 units\n",
        "\n",
        "\n",
        "\n",
        "\n"
      ],
      "metadata": {
        "id": "J6RVCXM110Sy"
      }
    },
    {
      "cell_type": "markdown",
      "source": [
        "# 1. State the Hypotheses statement:\n",
        "    Hypothesis testing is a statistical method used to make decisions or inferences about a population based on sample data. It involves making an assumption and then determining whether the evidence in the data is strong enough to reject that assumption\n",
        "# Hypothesis testing can be classified into two categories\n",
        "    1.Null Hypothsis(H0)\n",
        "    2.Alternate Hypothesis(H1)\n",
        "# Null Hypothesis (H0):\n",
        "\n",
        "The weekly operating cost is equal to the theoretical cost predicted by the model.\n",
        "\n",
        "# Alternative Hypothesis (H1):\n",
        "\n",
        "The weekly operating cost is higher than the theoretical cost predicted by the model."
      ],
      "metadata": {
        "id": "TIce9F6e2sx5"
      }
    },
    {
      "cell_type": "markdown",
      "source": [
        "# 2. Calculate the Test Statistic:\n",
        "Use the following formula to calculate the test statistic (t):\n",
        "where:\n",
        "\n",
        "1. ˉxˉ = sample mean weekly cost (Rs. 3,050)\n",
        "2. μ = theoretical mean weekly cost according to the cost model (W = $1,000 + $5X for X = 600 units)\n",
        "3. σ = 5*25 units\n",
        "4. n = sample size (25 restaurants)"
      ],
      "metadata": {
        "id": "QWWrltLc-X7F"
      }
    },
    {
      "cell_type": "code",
      "source": [
        "#Calculate the Test Statistic:\n",
        "import numpy as np\n",
        "import pandas as pd\n",
        "from scipy.stats import norm\n",
        "#Test Statistic(t) = (sample_mean - theoretical_mean) / (std_deviation / np.sqrt(n))\n",
        "t = (3050-600) / (125 / np.sqrt(25))\n",
        "t"
      ],
      "metadata": {
        "colab": {
          "base_uri": "https://localhost:8080/"
        },
        "id": "qJnheZL44wHi",
        "outputId": "95ed097b-5e24-42ad-94fc-9ae4c01e716d"
      },
      "execution_count": null,
      "outputs": [
        {
          "output_type": "execute_result",
          "data": {
            "text/plain": [
              "98.0"
            ]
          },
          "metadata": {},
          "execution_count": 11
        }
      ]
    },
    {
      "cell_type": "markdown",
      "source": [
        "# 3. Determine the Critical Value:"
      ],
      "metadata": {
        "id": "8nSiOazU-FbQ"
      }
    },
    {
      "cell_type": "code",
      "source": [
        " #Determine the Critical Value\n",
        "#Cummulative density function\n",
        "#Degrees of freedom(df)=sample mean-1=25-1=24\n",
        "alpha = 0.05\n",
        "critical_value = norm.ppf(1 - alpha)\n",
        "print(critical_value)"
      ],
      "metadata": {
        "colab": {
          "base_uri": "https://localhost:8080/"
        },
        "id": "FVbssvOF6uMr",
        "outputId": "bdfff508-3a50-4c24-f98d-bc4f3a916d3e"
      },
      "execution_count": null,
      "outputs": [
        {
          "output_type": "stream",
          "name": "stdout",
          "text": [
            "1.6448536269514722\n"
          ]
        }
      ]
    },
    {
      "cell_type": "markdown",
      "source": [
        "# 4. Make a Decision:\n",
        "Compare the test statistic with the critical value to decide whether to reject the null hypothesis.\n",
        "\n",
        "sol:The test statistic is greater than the critical value,so reject the null hypothesis.\n",
        "\n"
      ],
      "metadata": {
        "id": "sEma50Je9agM"
      }
    },
    {
      "cell_type": "markdown",
      "source": [
        "# 5. Conclusion:\n",
        "Since the test statistic did  exceed the critical value, reject the null hypothesis (H₀). This means that there is  enough evidence to support the claim that the weekly operating costs are higher than what the model predicts."
      ],
      "metadata": {
        "id": "Rmfdx54q9_lo"
      }
    },
    {
      "cell_type": "code",
      "source": [],
      "metadata": {
        "id": "chL26HY_7cZo"
      },
      "execution_count": null,
      "outputs": []
    },
    {
      "cell_type": "code",
      "source": [],
      "metadata": {
        "id": "yfKUkTgY7cdD"
      },
      "execution_count": null,
      "outputs": []
    }
  ]
}